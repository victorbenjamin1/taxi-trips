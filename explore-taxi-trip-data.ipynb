{
 "cells": [
  {
   "cell_type": "markdown",
   "metadata": {},
   "source": [
    "## Importando biblioteca e instanciando classes"
   ]
  },
  {
   "cell_type": "code",
   "execution_count": 311,
   "metadata": {},
   "outputs": [],
   "source": [
    "import pandas as pd\n",
    "from pyspark.context import SparkContext\n",
    "from pyspark.sql.session import SparkSession\n",
    "import matplotlib.pyplot as plt\n",
    "#sc = SparkContext('local')\n",
    "sc = SparkContext.getOrCreate('local')\n",
    "spark = SparkSession(sc)"
   ]
  },
  {
   "cell_type": "markdown",
   "metadata": {},
   "source": [
    "### Processando dataset 1 - JSON File to TempView (TRIPS)"
   ]
  },
  {
   "cell_type": "code",
   "execution_count": 312,
   "metadata": {},
   "outputs": [],
   "source": [
    "path = \"data-sample*\"\n",
    "Trips = spark.read.json(path)\n",
    "Trips.createOrReplaceTempView(\"trips\")"
   ]
  },
  {
   "cell_type": "markdown",
   "metadata": {},
   "source": [
    "### Processando dataset 2 - CSV File to TempView (VENDORS)"
   ]
  },
  {
   "cell_type": "code",
   "execution_count": 313,
   "metadata": {},
   "outputs": [],
   "source": [
    "vendors_path = 'data-vendor_lookup.csv'\n",
    "Vendors = spark.read.option(\"header\",True).csv(vendors_path)\n",
    "Vendors.createOrReplaceTempView(\"vendors\")"
   ]
  },
  {
   "cell_type": "markdown",
   "metadata": {},
   "source": [
    "### Processando dataset 3 - CSV File to TempView (PAYMENTS_LOOKUP)"
   ]
  },
  {
   "cell_type": "code",
   "execution_count": 314,
   "metadata": {},
   "outputs": [],
   "source": [
    "paymn = pd.read_csv('data-payment_lookup.csv', skiprows=[0])\n",
    "paymn.to_csv('data_payments.csv')\n",
    "payments_path = 'data_payments.csv'\n",
    "Payments = spark.read.option(\"header\",True).csv(payments_path)\n",
    "Payments.createOrReplaceTempView(\"payments\")"
   ]
  },
  {
   "cell_type": "markdown",
   "metadata": {},
   "source": [
    "## 1. Qual a distância média percorrida por viagens com no máximo 2 passageiros;"
   ]
  },
  {
   "cell_type": "code",
   "execution_count": 315,
   "metadata": {},
   "outputs": [],
   "source": [
    "firstQuestion = spark.sql(\"SELECT AVG(trip_distance) avg_distance FROM trips WHERE passenger_count <= 2\")"
   ]
  },
  {
   "cell_type": "code",
   "execution_count": 316,
   "metadata": {},
   "outputs": [
    {
     "name": "stdout",
     "output_type": "stream",
     "text": [
      "2.6625269962032267\n"
     ]
    }
   ],
   "source": [
    "# firstQuestion.show()\n",
    "distancia_media = firstQuestion.toPandas()\n",
    "resultado = distancia_media['avg_distance'][0]\n",
    "print(resultado)"
   ]
  },
  {
   "cell_type": "markdown",
   "metadata": {},
   "source": [
    "## 2. Quais os 3 maiores vendors  em quantidade total de dinheiro arrecadado;"
   ]
  },
  {
   "cell_type": "code",
   "execution_count": 317,
   "metadata": {},
   "outputs": [],
   "source": [
    "secondQuestion  = spark.sql(\"\"\"SELECT name, vendor_id,\n",
    "                                    SUM(total_amount) total_arrecadado\n",
    "                                FROM trips \n",
    "                                LEFT JOIN vendors using(vendor_id) \n",
    "                                GROUP by name, vendor_id \n",
    "                                ORDER BY total_arrecadado DESC\"\"\")"
   ]
  },
  {
   "cell_type": "code",
   "execution_count": 318,
   "metadata": {},
   "outputs": [],
   "source": [
    "totalamount_vendors = secondQuestion.toPandas()"
   ]
  },
  {
   "cell_type": "code",
   "execution_count": 319,
   "metadata": {},
   "outputs": [],
   "source": [
    "biggervendors = totalamount_vendors.head(3)"
   ]
  },
  {
   "cell_type": "code",
   "execution_count": null,
   "metadata": {},
   "outputs": [],
   "source": []
  },
  {
   "cell_type": "code",
   "execution_count": 320,
   "metadata": {},
   "outputs": [],
   "source": [
    "valores = biggervendors['total_arrecadado']\n",
    "empresas = biggervendors['name']"
   ]
  },
  {
   "cell_type": "code",
   "execution_count": 321,
   "metadata": {},
   "outputs": [
    {
     "data": {
      "text/plain": [
       "name                 object\n",
       "vendor_id            object\n",
       "total_arrecadado    float64\n",
       "dtype: object"
      ]
     },
     "execution_count": 321,
     "metadata": {},
     "output_type": "execute_result"
    }
   ],
   "source": [
    "biggervendors.dtypes"
   ]
  },
  {
   "cell_type": "code",
   "execution_count": 376,
   "metadata": {},
   "outputs": [
    {
     "data": {
      "image/png": "[encoded data removed]",
      "text/plain": [
       "<Figure size 720x288 with 1 Axes>"
      ]
     },
     "metadata": {
      "needs_background": "light"
     },
     "output_type": "display_data"
    }
   ],
   "source": [
    "plt.bar(empresas, valores)\n",
    "barlist = plt.bar(empresas, valores)\n",
    "barlist[0].set_color('b')\n",
    "barlist[1].set_color('c')\n",
    "barlist[2].set_color('y')\n",
    "plt.rcParams[\"figure.figsize\"] = [10,4]\n",
    "plt.xticks(fontsize=10)\n",
    "plt.yticks([0, 10],fontsize=10, rotation=45)\n",
    "plt.title(\"Três maiores vendors em total de dinheiro arrecadado\", fontsize=10)\n",
    "plt.ylabel(\"Total arrecadado (em dólares)\", fontsize=13)\n",
    "plt.savefig('foo.jpg')\n",
    "plt.show()"
   ]
  },
  {
   "cell_type": "markdown",
   "metadata": {},
   "source": [
    "## 3. Faça um histograma da distribuição mensal, nos 4 anos, de corridas pagas em dinheiro;"
   ]
  },
  {
   "cell_type": "code",
   "execution_count": 323,
   "metadata": {},
   "outputs": [],
   "source": [
    "ThirdQuestion = spark.sql(\"\"\"\n",
    "                                SELECT  mes_corrida, count(1) qtde_corridas from (\n",
    "                                SELECT \n",
    "                                    DATE_FORMAT(pickup_datetime, 'y-MM') mes_corrida, \n",
    "                                    payments.payment_lookup\n",
    "                                FROM trips\n",
    "                                LEFT JOIN payments ON\n",
    "                                payments.payment_type = trips.payment_type\n",
    "                                WHERE payment_lookup = 'Cash'\n",
    "                                ) GROUP BY mes_corrida\n",
    "                                \"\"\")"
   ]
  },
  {
   "cell_type": "code",
   "execution_count": 324,
   "metadata": {},
   "outputs": [],
   "source": [
    "cashraces_month = ThirdQuestion.toPandas()"
   ]
  },
  {
   "cell_type": "code",
   "execution_count": 325,
   "metadata": {},
   "outputs": [
    {
     "data": {
      "text/html": [
       "<div>\n",
       "<style scoped>\n",
       "    .dataframe tbody tr th:only-of-type {\n",
       "        vertical-align: middle;\n",
       "    }\n",
       "\n",
       "    .dataframe tbody tr th {\n",
       "        vertical-align: top;\n",
       "    }\n",
       "\n",
       "    .dataframe thead th {\n",
       "        text-align: right;\n",
       "    }\n",
       "</style>\n",
       "<table border=\"1\" class=\"dataframe\">\n",
       "  <thead>\n",
       "    <tr style=\"text-align: right;\">\n",
       "      <th></th>\n",
       "      <th>mes_corrida</th>\n",
       "      <th>qtde_corridas</th>\n",
       "    </tr>\n",
       "  </thead>\n",
       "  <tbody>\n",
       "    <tr>\n",
       "      <th>2</th>\n",
       "      <td>2009-01</td>\n",
       "      <td>66991</td>\n",
       "    </tr>\n",
       "    <tr>\n",
       "      <th>44</th>\n",
       "      <td>2009-02</td>\n",
       "      <td>66820</td>\n",
       "    </tr>\n",
       "    <tr>\n",
       "      <th>40</th>\n",
       "      <td>2009-03</td>\n",
       "      <td>73945</td>\n",
       "    </tr>\n",
       "    <tr>\n",
       "      <th>39</th>\n",
       "      <td>2009-04</td>\n",
       "      <td>71141</td>\n",
       "    </tr>\n",
       "    <tr>\n",
       "      <th>36</th>\n",
       "      <td>2009-05</td>\n",
       "      <td>74136</td>\n",
       "    </tr>\n",
       "  </tbody>\n",
       "</table>\n",
       "</div>"
      ],
      "text/plain": [
       "   mes_corrida  qtde_corridas\n",
       "2      2009-01          66991\n",
       "44     2009-02          66820\n",
       "40     2009-03          73945\n",
       "39     2009-04          71141\n",
       "36     2009-05          74136"
      ]
     },
     "execution_count": 325,
     "metadata": {},
     "output_type": "execute_result"
    }
   ],
   "source": [
    "cashraces_month = cashraces_month.sort_values(by=['mes_corrida'])\n",
    "cashraces_month.head()"
   ]
  },
  {
   "cell_type": "code",
   "execution_count": 326,
   "metadata": {},
   "outputs": [],
   "source": [
    "meses = cashraces_month['mes_corrida']\n",
    "qtdes = cashraces_month['qtde_corridas']"
   ]
  },
  {
   "cell_type": "code",
   "execution_count": 367,
   "metadata": {},
   "outputs": [
    {
     "data": {
      "image/png": "[encoded data removed]",
      "text/plain": [
       "<Figure size 1440x720 with 1 Axes>"
      ]
     },
     "metadata": {
      "needs_background": "light"
     },
     "output_type": "display_data"
    }
   ],
   "source": [
    "plt.bar(meses, qtdes)\n",
    "# plt.rcParams[\"figure.figsize\"] = [20,10]\n",
    "# plt.set_size_inches(10,5)\n",
    "plt.xticks(rotation=45, fontsize=11)\n",
    "plt.yticks(fontsize=13)\n",
    "plt.title(\"Corridas pagas em dinheiro em 2009, 2010, 2011 e 2012\", fontsize=15)\n",
    "plt.ylabel(\"Quantidade de corridas\", fontsize=13)\n",
    "figure = plt.gcf()\n",
    "figure.set_size_inches(20, 10)\n",
    "plt.show()"
   ]
  },
  {
   "cell_type": "markdown",
   "metadata": {},
   "source": [
    "## 4. Faça um gráfico de série temporal contando a quantidade de gorjetas de cada dia, nos últimos 3 meses de 2012."
   ]
  },
  {
   "cell_type": "code",
   "execution_count": 328,
   "metadata": {},
   "outputs": [
    {
     "name": "stdout",
     "output_type": "stream",
     "text": [
      "+------------------+---------+-------+\n",
      "|          col_name|data_type|comment|\n",
      "+------------------+---------+-------+\n",
      "|  dropoff_datetime|   string|   null|\n",
      "|  dropoff_latitude|   double|   null|\n",
      "| dropoff_longitude|   double|   null|\n",
      "|       fare_amount|   double|   null|\n",
      "|   passenger_count|   bigint|   null|\n",
      "|      payment_type|   string|   null|\n",
      "|   pickup_datetime|   string|   null|\n",
      "|   pickup_latitude|   double|   null|\n",
      "|  pickup_longitude|   double|   null|\n",
      "|         rate_code|   string|   null|\n",
      "|store_and_fwd_flag|   bigint|   null|\n",
      "|         surcharge|   double|   null|\n",
      "|        tip_amount|   double|   null|\n",
      "|      tolls_amount|   double|   null|\n",
      "|      total_amount|   double|   null|\n",
      "|     trip_distance|   double|   null|\n",
      "|         vendor_id|   string|   null|\n",
      "+------------------+---------+-------+\n",
      "\n"
     ]
    }
   ],
   "source": [
    "Desc = spark.sql(\"DESC trips\")\n",
    "Desc.show()"
   ]
  },
  {
   "cell_type": "code",
   "execution_count": 329,
   "metadata": {},
   "outputs": [],
   "source": [
    "Gorjetas = spark.sql(\"\"\" SELECT DATE_FORMAT(pickup_datetime, 'y-MM-dd') dia_corrida, \n",
    "                                COUNT(1) gorjetas \n",
    "                                from trips \n",
    "                                WHERE tip_amount > 0\n",
    "                                        AND DATE_FORMAT(pickup_datetime, 'y-MM-dd') BETWEEN '2012-10-01' AND '2012-12-31'\n",
    "                                GROUP BY dia_corrida \"\"\")"
   ]
  },
  {
   "cell_type": "code",
   "execution_count": 330,
   "metadata": {},
   "outputs": [],
   "source": [
    "corridas_gorjeta = Gorjetas.toPandas()"
   ]
  },
  {
   "cell_type": "code",
   "execution_count": 331,
   "metadata": {},
   "outputs": [
    {
     "data": {
      "text/html": [
       "<div>\n",
       "<style scoped>\n",
       "    .dataframe tbody tr th:only-of-type {\n",
       "        vertical-align: middle;\n",
       "    }\n",
       "\n",
       "    .dataframe tbody tr th {\n",
       "        vertical-align: top;\n",
       "    }\n",
       "\n",
       "    .dataframe thead th {\n",
       "        text-align: right;\n",
       "    }\n",
       "</style>\n",
       "<table border=\"1\" class=\"dataframe\">\n",
       "  <thead>\n",
       "    <tr style=\"text-align: right;\">\n",
       "      <th></th>\n",
       "      <th>dia_corrida</th>\n",
       "      <th>gorjetas</th>\n",
       "    </tr>\n",
       "  </thead>\n",
       "  <tbody>\n",
       "    <tr>\n",
       "      <th>0</th>\n",
       "      <td>2012-10-21</td>\n",
       "      <td>617</td>\n",
       "    </tr>\n",
       "    <tr>\n",
       "      <th>1</th>\n",
       "      <td>2012-10-06</td>\n",
       "      <td>615</td>\n",
       "    </tr>\n",
       "    <tr>\n",
       "      <th>2</th>\n",
       "      <td>2012-10-24</td>\n",
       "      <td>587</td>\n",
       "    </tr>\n",
       "    <tr>\n",
       "      <th>3</th>\n",
       "      <td>2012-10-23</td>\n",
       "      <td>611</td>\n",
       "    </tr>\n",
       "    <tr>\n",
       "      <th>4</th>\n",
       "      <td>2012-10-04</td>\n",
       "      <td>586</td>\n",
       "    </tr>\n",
       "  </tbody>\n",
       "</table>\n",
       "</div>"
      ],
      "text/plain": [
       "  dia_corrida  gorjetas\n",
       "0  2012-10-21       617\n",
       "1  2012-10-06       615\n",
       "2  2012-10-24       587\n",
       "3  2012-10-23       611\n",
       "4  2012-10-04       586"
      ]
     },
     "execution_count": 331,
     "metadata": {},
     "output_type": "execute_result"
    }
   ],
   "source": [
    "corridas_gorjeta.head()"
   ]
  },
  {
   "cell_type": "code",
   "execution_count": 332,
   "metadata": {},
   "outputs": [],
   "source": [
    "corridas_gorjeta = corridas_gorjeta.sort_values(by=['dia_corrida'])"
   ]
  },
  {
   "cell_type": "code",
   "execution_count": 333,
   "metadata": {},
   "outputs": [
    {
     "data": {
      "text/html": [
       "<div>\n",
       "<style scoped>\n",
       "    .dataframe tbody tr th:only-of-type {\n",
       "        vertical-align: middle;\n",
       "    }\n",
       "\n",
       "    .dataframe tbody tr th {\n",
       "        vertical-align: top;\n",
       "    }\n",
       "\n",
       "    .dataframe thead th {\n",
       "        text-align: right;\n",
       "    }\n",
       "</style>\n",
       "<table border=\"1\" class=\"dataframe\">\n",
       "  <thead>\n",
       "    <tr style=\"text-align: right;\">\n",
       "      <th></th>\n",
       "      <th>dia_corrida</th>\n",
       "      <th>gorjetas</th>\n",
       "    </tr>\n",
       "  </thead>\n",
       "  <tbody>\n",
       "    <tr>\n",
       "      <th>19</th>\n",
       "      <td>2012-10-01</td>\n",
       "      <td>604</td>\n",
       "    </tr>\n",
       "    <tr>\n",
       "      <th>22</th>\n",
       "      <td>2012-10-02</td>\n",
       "      <td>612</td>\n",
       "    </tr>\n",
       "    <tr>\n",
       "      <th>11</th>\n",
       "      <td>2012-10-03</td>\n",
       "      <td>606</td>\n",
       "    </tr>\n",
       "    <tr>\n",
       "      <th>4</th>\n",
       "      <td>2012-10-04</td>\n",
       "      <td>586</td>\n",
       "    </tr>\n",
       "    <tr>\n",
       "      <th>17</th>\n",
       "      <td>2012-10-05</td>\n",
       "      <td>618</td>\n",
       "    </tr>\n",
       "  </tbody>\n",
       "</table>\n",
       "</div>"
      ],
      "text/plain": [
       "   dia_corrida  gorjetas\n",
       "19  2012-10-01       604\n",
       "22  2012-10-02       612\n",
       "11  2012-10-03       606\n",
       "4   2012-10-04       586\n",
       "17  2012-10-05       618"
      ]
     },
     "execution_count": 333,
     "metadata": {},
     "output_type": "execute_result"
    }
   ],
   "source": [
    "corridas_gorjeta.head()"
   ]
  },
  {
   "cell_type": "code",
   "execution_count": 334,
   "metadata": {},
   "outputs": [],
   "source": [
    "dias = corridas_gorjeta['dia_corrida']"
   ]
  },
  {
   "cell_type": "code",
   "execution_count": 335,
   "metadata": {},
   "outputs": [],
   "source": [
    "gorjetas = corridas_gorjeta['gorjetas']"
   ]
  },
  {
   "cell_type": "code",
   "execution_count": 336,
   "metadata": {},
   "outputs": [
    {
     "data": {
      "image/png": "[encoded data removed]",
      "text/plain": [
       "<Figure size 1440x504 with 1 Axes>"
      ]
     },
     "metadata": {
      "needs_background": "light"
     },
     "output_type": "display_data"
    }
   ],
   "source": [
    "plt.plot(dias, gorjetas,  linestyle='--')\n",
    "plt.rcParams[\"figure.figsize\"] = [12,5]\n",
    "plt.xticks(rotation=45, fontsize=11)\n",
    "plt.yticks(fontsize=13)\n",
    "plt.title(\"Gorjetas por dia de 01/10/2012 até 31/12/2012\", fontsize=15)\n",
    "plt.ylabel(\"Quantidade de gorjetas\", fontsize=13)\n",
    "plt.show()"
   ]
  },
  {
   "cell_type": "markdown",
   "metadata": {},
   "source": [
    "## Bonûs - Qual o tempo médio das corridas nos dias de sábado e domingo;"
   ]
  },
  {
   "cell_type": "code",
   "execution_count": 337,
   "metadata": {},
   "outputs": [],
   "source": [
    "DayofWeek = spark.sql(\"\"\" SELECT    \n",
    "                                    DAYOFWEEK(DATE_FORMAT(pickup_datetime, 'y-MM-dd')) day_of_week, \n",
    "                                    DATE_FORMAT(pickup_datetime, 'y-MM-dd H:mm:ss') inicio_corrida, \n",
    "                                    DATE_FORMAT(dropoff_datetime, 'y-MM-dd H:mm:ss') fim_corrida\n",
    "                            FROM trips WHERE DAYOFWEEK(DATE_FORMAT(pickup_datetime, 'y-MM-dd')) IN (1,7)\"\"\")"
   ]
  },
  {
   "cell_type": "code",
   "execution_count": 338,
   "metadata": {},
   "outputs": [
    {
     "name": "stdout",
     "output_type": "stream",
     "text": [
      "+-----------+-------------------+-------------------+\n",
      "|day_of_week|     inicio_corrida|        fim_corrida|\n",
      "+-----------+-------------------+-------------------+\n",
      "|          7| 2011-03-12 3:28:30| 2011-03-12 3:36:18|\n",
      "|          1| 2011-08-07 1:03:02| 2011-08-07 1:09:58|\n",
      "|          1| 2011-03-27 6:05:54| 2011-03-27 6:18:48|\n",
      "|          7|2011-04-02 13:14:36|2011-04-02 13:20:57|\n",
      "|          1|2011-07-17 18:45:07|2011-07-17 18:55:14|\n",
      "|          7| 2011-04-16 7:12:11| 2011-04-16 7:23:25|\n",
      "|          1|2011-04-03 15:25:51|2011-04-03 15:37:49|\n",
      "|          1|2011-02-27 18:35:18|2011-02-27 18:42:30|\n",
      "|          1| 2011-09-25 5:56:56| 2011-09-25 6:06:53|\n",
      "|          1|2011-10-02 16:47:30|2011-10-02 16:57:05|\n",
      "|          1| 2011-04-17 8:28:36| 2011-04-17 8:36:49|\n",
      "|          7| 2011-07-30 7:16:27| 2011-07-30 7:27:47|\n",
      "|          7| 2011-03-12 0:39:40| 2011-03-12 0:49:00|\n",
      "|          7|2011-11-12 19:37:30|2011-11-12 19:45:45|\n",
      "|          1|2011-04-17 22:17:06|2011-04-17 22:24:39|\n",
      "|          1| 2011-03-20 8:14:57| 2011-03-20 8:20:32|\n",
      "|          7|2011-10-15 11:44:26|2011-10-15 11:53:54|\n",
      "|          7|2011-09-24 19:38:36|2011-09-24 19:49:53|\n",
      "|          1|2011-07-10 13:58:31|2011-07-10 14:02:36|\n",
      "|          1| 2011-05-15 7:11:56| 2011-05-15 7:23:44|\n",
      "+-----------+-------------------+-------------------+\n",
      "only showing top 20 rows\n",
      "\n"
     ]
    }
   ],
   "source": [
    "DayofWeek.show()"
   ]
  },
  {
   "cell_type": "code",
   "execution_count": 339,
   "metadata": {},
   "outputs": [],
   "source": [
    "corridas_fds = DayofWeek.toPandas()"
   ]
  },
  {
   "cell_type": "code",
   "execution_count": 340,
   "metadata": {},
   "outputs": [
    {
     "data": {
      "text/html": [
       "<div>\n",
       "<style scoped>\n",
       "    .dataframe tbody tr th:only-of-type {\n",
       "        vertical-align: middle;\n",
       "    }\n",
       "\n",
       "    .dataframe tbody tr th {\n",
       "        vertical-align: top;\n",
       "    }\n",
       "\n",
       "    .dataframe thead th {\n",
       "        text-align: right;\n",
       "    }\n",
       "</style>\n",
       "<table border=\"1\" class=\"dataframe\">\n",
       "  <thead>\n",
       "    <tr style=\"text-align: right;\">\n",
       "      <th></th>\n",
       "      <th>day_of_week</th>\n",
       "      <th>inicio_corrida</th>\n",
       "      <th>fim_corrida</th>\n",
       "    </tr>\n",
       "  </thead>\n",
       "  <tbody>\n",
       "    <tr>\n",
       "      <th>0</th>\n",
       "      <td>7</td>\n",
       "      <td>2011-03-12 3:28:30</td>\n",
       "      <td>2011-03-12 3:36:18</td>\n",
       "    </tr>\n",
       "    <tr>\n",
       "      <th>1</th>\n",
       "      <td>1</td>\n",
       "      <td>2011-08-07 1:03:02</td>\n",
       "      <td>2011-08-07 1:09:58</td>\n",
       "    </tr>\n",
       "    <tr>\n",
       "      <th>2</th>\n",
       "      <td>1</td>\n",
       "      <td>2011-03-27 6:05:54</td>\n",
       "      <td>2011-03-27 6:18:48</td>\n",
       "    </tr>\n",
       "    <tr>\n",
       "      <th>3</th>\n",
       "      <td>7</td>\n",
       "      <td>2011-04-02 13:14:36</td>\n",
       "      <td>2011-04-02 13:20:57</td>\n",
       "    </tr>\n",
       "    <tr>\n",
       "      <th>4</th>\n",
       "      <td>1</td>\n",
       "      <td>2011-07-17 18:45:07</td>\n",
       "      <td>2011-07-17 18:55:14</td>\n",
       "    </tr>\n",
       "  </tbody>\n",
       "</table>\n",
       "</div>"
      ],
      "text/plain": [
       "   day_of_week       inicio_corrida          fim_corrida\n",
       "0            7   2011-03-12 3:28:30   2011-03-12 3:36:18\n",
       "1            1   2011-08-07 1:03:02   2011-08-07 1:09:58\n",
       "2            1   2011-03-27 6:05:54   2011-03-27 6:18:48\n",
       "3            7  2011-04-02 13:14:36  2011-04-02 13:20:57\n",
       "4            1  2011-07-17 18:45:07  2011-07-17 18:55:14"
      ]
     },
     "execution_count": 340,
     "metadata": {},
     "output_type": "execute_result"
    }
   ],
   "source": [
    "corridas_fds.head()"
   ]
  },
  {
   "cell_type": "code",
   "execution_count": 341,
   "metadata": {},
   "outputs": [],
   "source": [
    "corridas_fds['inicio_corrida_Date'] = corridas_fds['inicio_corrida'].astype('datetime64')\n",
    "del corridas_fds['inicio_corrida']\n",
    "corridas_fds['fim_corrida_Date'] = corridas_fds['fim_corrida'].astype('datetime64')\n",
    "del corridas_fds['fim_corrida']"
   ]
  },
  {
   "cell_type": "code",
   "execution_count": 342,
   "metadata": {},
   "outputs": [
    {
     "data": {
      "text/plain": [
       "day_of_week                     int32\n",
       "inicio_corrida_Date    datetime64[ns]\n",
       "fim_corrida_Date       datetime64[ns]\n",
       "dtype: object"
      ]
     },
     "execution_count": 342,
     "metadata": {},
     "output_type": "execute_result"
    }
   ],
   "source": [
    "corridas_fds.dtypes"
   ]
  },
  {
   "cell_type": "code",
   "execution_count": 343,
   "metadata": {},
   "outputs": [
    {
     "data": {
      "text/html": [
       "<div>\n",
       "<style scoped>\n",
       "    .dataframe tbody tr th:only-of-type {\n",
       "        vertical-align: middle;\n",
       "    }\n",
       "\n",
       "    .dataframe tbody tr th {\n",
       "        vertical-align: top;\n",
       "    }\n",
       "\n",
       "    .dataframe thead th {\n",
       "        text-align: right;\n",
       "    }\n",
       "</style>\n",
       "<table border=\"1\" class=\"dataframe\">\n",
       "  <thead>\n",
       "    <tr style=\"text-align: right;\">\n",
       "      <th></th>\n",
       "      <th>day_of_week</th>\n",
       "      <th>inicio_corrida_Date</th>\n",
       "      <th>fim_corrida_Date</th>\n",
       "    </tr>\n",
       "  </thead>\n",
       "  <tbody>\n",
       "    <tr>\n",
       "      <th>0</th>\n",
       "      <td>7</td>\n",
       "      <td>2011-03-12 03:28:30</td>\n",
       "      <td>2011-03-12 03:36:18</td>\n",
       "    </tr>\n",
       "    <tr>\n",
       "      <th>1</th>\n",
       "      <td>1</td>\n",
       "      <td>2011-08-07 01:03:02</td>\n",
       "      <td>2011-08-07 01:09:58</td>\n",
       "    </tr>\n",
       "    <tr>\n",
       "      <th>2</th>\n",
       "      <td>1</td>\n",
       "      <td>2011-03-27 06:05:54</td>\n",
       "      <td>2011-03-27 06:18:48</td>\n",
       "    </tr>\n",
       "    <tr>\n",
       "      <th>3</th>\n",
       "      <td>7</td>\n",
       "      <td>2011-04-02 13:14:36</td>\n",
       "      <td>2011-04-02 13:20:57</td>\n",
       "    </tr>\n",
       "    <tr>\n",
       "      <th>4</th>\n",
       "      <td>1</td>\n",
       "      <td>2011-07-17 18:45:07</td>\n",
       "      <td>2011-07-17 18:55:14</td>\n",
       "    </tr>\n",
       "  </tbody>\n",
       "</table>\n",
       "</div>"
      ],
      "text/plain": [
       "   day_of_week inicio_corrida_Date    fim_corrida_Date\n",
       "0            7 2011-03-12 03:28:30 2011-03-12 03:36:18\n",
       "1            1 2011-08-07 01:03:02 2011-08-07 01:09:58\n",
       "2            1 2011-03-27 06:05:54 2011-03-27 06:18:48\n",
       "3            7 2011-04-02 13:14:36 2011-04-02 13:20:57\n",
       "4            1 2011-07-17 18:45:07 2011-07-17 18:55:14"
      ]
     },
     "execution_count": 343,
     "metadata": {},
     "output_type": "execute_result"
    }
   ],
   "source": [
    "corridas_fds.head()"
   ]
  },
  {
   "cell_type": "code",
   "execution_count": 344,
   "metadata": {},
   "outputs": [
    {
     "data": {
      "text/plain": [
       "day_of_week            1133178\n",
       "inicio_corrida_Date    1133178\n",
       "fim_corrida_Date       1133178\n",
       "dtype: int64"
      ]
     },
     "execution_count": 344,
     "metadata": {},
     "output_type": "execute_result"
    }
   ],
   "source": [
    "corridas_fds.count()"
   ]
  },
  {
   "cell_type": "code",
   "execution_count": 345,
   "metadata": {},
   "outputs": [],
   "source": [
    "elaptime = []\n",
    "    \n",
    "for i, row in corridas_fds.iterrows():\n",
    "    elapsedTime = row['fim_corrida_Date'] - row['inicio_corrida_Date'] \n",
    "    elapsedTime = elapsedTime.total_seconds()\n",
    "    elaptime.append(elapsedTime)   "
   ]
  },
  {
   "cell_type": "code",
   "execution_count": 346,
   "metadata": {},
   "outputs": [],
   "source": [
    "corridas_fds['elapsedTime'] = elaptime"
   ]
  },
  {
   "cell_type": "code",
   "execution_count": 347,
   "metadata": {},
   "outputs": [
    {
     "data": {
      "text/html": [
       "<div>\n",
       "<style scoped>\n",
       "    .dataframe tbody tr th:only-of-type {\n",
       "        vertical-align: middle;\n",
       "    }\n",
       "\n",
       "    .dataframe tbody tr th {\n",
       "        vertical-align: top;\n",
       "    }\n",
       "\n",
       "    .dataframe thead th {\n",
       "        text-align: right;\n",
       "    }\n",
       "</style>\n",
       "<table border=\"1\" class=\"dataframe\">\n",
       "  <thead>\n",
       "    <tr style=\"text-align: right;\">\n",
       "      <th></th>\n",
       "      <th>day_of_week</th>\n",
       "      <th>inicio_corrida_Date</th>\n",
       "      <th>fim_corrida_Date</th>\n",
       "      <th>elapsedTime</th>\n",
       "    </tr>\n",
       "  </thead>\n",
       "  <tbody>\n",
       "    <tr>\n",
       "      <th>0</th>\n",
       "      <td>7</td>\n",
       "      <td>2011-03-12 03:28:30</td>\n",
       "      <td>2011-03-12 03:36:18</td>\n",
       "      <td>468.0</td>\n",
       "    </tr>\n",
       "    <tr>\n",
       "      <th>1</th>\n",
       "      <td>1</td>\n",
       "      <td>2011-08-07 01:03:02</td>\n",
       "      <td>2011-08-07 01:09:58</td>\n",
       "      <td>416.0</td>\n",
       "    </tr>\n",
       "    <tr>\n",
       "      <th>2</th>\n",
       "      <td>1</td>\n",
       "      <td>2011-03-27 06:05:54</td>\n",
       "      <td>2011-03-27 06:18:48</td>\n",
       "      <td>774.0</td>\n",
       "    </tr>\n",
       "    <tr>\n",
       "      <th>3</th>\n",
       "      <td>7</td>\n",
       "      <td>2011-04-02 13:14:36</td>\n",
       "      <td>2011-04-02 13:20:57</td>\n",
       "      <td>381.0</td>\n",
       "    </tr>\n",
       "    <tr>\n",
       "      <th>4</th>\n",
       "      <td>1</td>\n",
       "      <td>2011-07-17 18:45:07</td>\n",
       "      <td>2011-07-17 18:55:14</td>\n",
       "      <td>607.0</td>\n",
       "    </tr>\n",
       "  </tbody>\n",
       "</table>\n",
       "</div>"
      ],
      "text/plain": [
       "   day_of_week inicio_corrida_Date    fim_corrida_Date  elapsedTime\n",
       "0            7 2011-03-12 03:28:30 2011-03-12 03:36:18        468.0\n",
       "1            1 2011-08-07 01:03:02 2011-08-07 01:09:58        416.0\n",
       "2            1 2011-03-27 06:05:54 2011-03-27 06:18:48        774.0\n",
       "3            7 2011-04-02 13:14:36 2011-04-02 13:20:57        381.0\n",
       "4            1 2011-07-17 18:45:07 2011-07-17 18:55:14        607.0"
      ]
     },
     "execution_count": 347,
     "metadata": {},
     "output_type": "execute_result"
    }
   ],
   "source": [
    "corridas_fds.head()"
   ]
  },
  {
   "cell_type": "code",
   "execution_count": 348,
   "metadata": {},
   "outputs": [
    {
     "data": {
      "text/plain": [
       "524.8284850217706"
      ]
     },
     "execution_count": 348,
     "metadata": {},
     "output_type": "execute_result"
    }
   ],
   "source": [
    "corridas_fds['elapsedTime'].mean()"
   ]
  },
  {
   "cell_type": "code",
   "execution_count": 349,
   "metadata": {},
   "outputs": [
    {
     "name": "stdout",
     "output_type": "stream",
     "text": [
      "\n",
      "Difference of score1 and score2 :\n",
      " 0 days 00:08:44.828485021\n"
     ]
    }
   ],
   "source": [
    "corridas_fds['Elap'] = corridas_fds['fim_corrida_Date'] - corridas_fds['inicio_corrida_Date'] \n",
    "print(\"\\nDifference of score1 and score2 :\\n\", corridas_fds['Elap'].mean())"
   ]
  },
  {
   "cell_type": "code",
   "execution_count": 350,
   "metadata": {},
   "outputs": [],
   "source": [
    "teste = corridas_fds['Elap'].mean()"
   ]
  },
  {
   "cell_type": "code",
   "execution_count": 351,
   "metadata": {},
   "outputs": [],
   "source": [
    "def strfdelta(tdelta, fmt):\n",
    "    d = {\"days\": tdelta.days}\n",
    "    d[\"hours\"], rem = divmod(tdelta.seconds, 3600)\n",
    "    d[\"minutes\"], d[\"seconds\"] = divmod(rem, 60)\n",
    "    return fmt.format(**d)"
   ]
  },
  {
   "cell_type": "code",
   "execution_count": 352,
   "metadata": {},
   "outputs": [
    {
     "data": {
      "text/plain": [
       "'8 minutos e 44 segundos'"
      ]
     },
     "execution_count": 352,
     "metadata": {},
     "output_type": "execute_result"
    }
   ],
   "source": [
    "strfdelta(teste,\"{minutes} minutos e {seconds} segundos\")"
   ]
  },
  {
   "cell_type": "markdown",
   "metadata": {},
   "source": [
    "### 8 minutos e 44 segundos"
   ]
  }
 ],
 "metadata": {
  "kernelspec": {
   "display_name": "Python 3",
   "language": "python",
   "name": "python3"
  },
  "language_info": {
   "codemirror_mode": {
    "name": "ipython",
    "version": 3
   },
   "file_extension": ".py",
   "mimetype": "text/x-python",
   "name": "python",
   "nbconvert_exporter": "python",
   "pygments_lexer": "ipython3",
   "version": "3.6.9"
  }
 },
 "nbformat": 4,
 "nbformat_minor": 4
}
